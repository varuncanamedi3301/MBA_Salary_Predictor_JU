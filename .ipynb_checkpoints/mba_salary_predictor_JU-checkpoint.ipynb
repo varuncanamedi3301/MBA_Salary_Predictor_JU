{
 "cells": [
  {
   "cell_type": "markdown",
   "metadata": {},
   "source": [
    "# Salary Predictor for Jain University MBA Program\n",
    "\n",
    "Dataset :- available at https://www.kaggle.com/benroshan/factors-affecting-campus-placement, \n",
    "Prediction Type :- Regression, \n",
    "Evaluation Metric :- Root mean squared error(RMSE)"
   ]
  },
  {
   "cell_type": "code",
   "execution_count": 1,
   "metadata": {},
   "outputs": [],
   "source": [
    "import pandas as pd\n",
    "import matplotlib.pyplot as plt\n",
    "import numpy as np"
   ]
  },
  {
   "cell_type": "markdown",
   "metadata": {},
   "source": [
    "## Data cleaning and Visualization"
   ]
  },
  {
   "cell_type": "code",
   "execution_count": 66,
   "metadata": {},
   "outputs": [
    {
     "data": {
      "text/html": [
       "<div>\n",
       "<style scoped>\n",
       "    .dataframe tbody tr th:only-of-type {\n",
       "        vertical-align: middle;\n",
       "    }\n",
       "\n",
       "    .dataframe tbody tr th {\n",
       "        vertical-align: top;\n",
       "    }\n",
       "\n",
       "    .dataframe thead th {\n",
       "        text-align: right;\n",
       "    }\n",
       "</style>\n",
       "<table border=\"1\" class=\"dataframe\">\n",
       "  <thead>\n",
       "    <tr style=\"text-align: right;\">\n",
       "      <th></th>\n",
       "      <th>gender</th>\n",
       "      <th>ssc_p</th>\n",
       "      <th>hsc_p</th>\n",
       "      <th>degree_p</th>\n",
       "      <th>workex</th>\n",
       "      <th>etest_p</th>\n",
       "      <th>specialisation</th>\n",
       "      <th>mba_p</th>\n",
       "      <th>status</th>\n",
       "      <th>salary</th>\n",
       "    </tr>\n",
       "  </thead>\n",
       "  <tbody>\n",
       "    <tr>\n",
       "      <th>0</th>\n",
       "      <td>1</td>\n",
       "      <td>67.00</td>\n",
       "      <td>91.00</td>\n",
       "      <td>58.00</td>\n",
       "      <td>0</td>\n",
       "      <td>55.0</td>\n",
       "      <td>0</td>\n",
       "      <td>58.80</td>\n",
       "      <td>1</td>\n",
       "      <td>270000.0</td>\n",
       "    </tr>\n",
       "    <tr>\n",
       "      <th>1</th>\n",
       "      <td>1</td>\n",
       "      <td>79.33</td>\n",
       "      <td>78.33</td>\n",
       "      <td>77.48</td>\n",
       "      <td>1</td>\n",
       "      <td>86.5</td>\n",
       "      <td>1</td>\n",
       "      <td>66.28</td>\n",
       "      <td>1</td>\n",
       "      <td>200000.0</td>\n",
       "    </tr>\n",
       "    <tr>\n",
       "      <th>2</th>\n",
       "      <td>1</td>\n",
       "      <td>65.00</td>\n",
       "      <td>68.00</td>\n",
       "      <td>64.00</td>\n",
       "      <td>0</td>\n",
       "      <td>75.0</td>\n",
       "      <td>1</td>\n",
       "      <td>57.80</td>\n",
       "      <td>1</td>\n",
       "      <td>250000.0</td>\n",
       "    </tr>\n",
       "    <tr>\n",
       "      <th>3</th>\n",
       "      <td>1</td>\n",
       "      <td>56.00</td>\n",
       "      <td>52.00</td>\n",
       "      <td>52.00</td>\n",
       "      <td>0</td>\n",
       "      <td>66.0</td>\n",
       "      <td>0</td>\n",
       "      <td>59.43</td>\n",
       "      <td>0</td>\n",
       "      <td>0.0</td>\n",
       "    </tr>\n",
       "    <tr>\n",
       "      <th>4</th>\n",
       "      <td>1</td>\n",
       "      <td>85.80</td>\n",
       "      <td>73.60</td>\n",
       "      <td>73.30</td>\n",
       "      <td>0</td>\n",
       "      <td>96.8</td>\n",
       "      <td>1</td>\n",
       "      <td>55.50</td>\n",
       "      <td>1</td>\n",
       "      <td>425000.0</td>\n",
       "    </tr>\n",
       "    <tr>\n",
       "      <th>...</th>\n",
       "      <td>...</td>\n",
       "      <td>...</td>\n",
       "      <td>...</td>\n",
       "      <td>...</td>\n",
       "      <td>...</td>\n",
       "      <td>...</td>\n",
       "      <td>...</td>\n",
       "      <td>...</td>\n",
       "      <td>...</td>\n",
       "      <td>...</td>\n",
       "    </tr>\n",
       "    <tr>\n",
       "      <th>210</th>\n",
       "      <td>1</td>\n",
       "      <td>80.60</td>\n",
       "      <td>82.00</td>\n",
       "      <td>77.60</td>\n",
       "      <td>0</td>\n",
       "      <td>91.0</td>\n",
       "      <td>1</td>\n",
       "      <td>74.49</td>\n",
       "      <td>1</td>\n",
       "      <td>400000.0</td>\n",
       "    </tr>\n",
       "    <tr>\n",
       "      <th>211</th>\n",
       "      <td>1</td>\n",
       "      <td>58.00</td>\n",
       "      <td>60.00</td>\n",
       "      <td>72.00</td>\n",
       "      <td>0</td>\n",
       "      <td>74.0</td>\n",
       "      <td>1</td>\n",
       "      <td>53.62</td>\n",
       "      <td>1</td>\n",
       "      <td>275000.0</td>\n",
       "    </tr>\n",
       "    <tr>\n",
       "      <th>212</th>\n",
       "      <td>1</td>\n",
       "      <td>67.00</td>\n",
       "      <td>67.00</td>\n",
       "      <td>73.00</td>\n",
       "      <td>1</td>\n",
       "      <td>59.0</td>\n",
       "      <td>1</td>\n",
       "      <td>69.72</td>\n",
       "      <td>1</td>\n",
       "      <td>295000.0</td>\n",
       "    </tr>\n",
       "    <tr>\n",
       "      <th>213</th>\n",
       "      <td>0</td>\n",
       "      <td>74.00</td>\n",
       "      <td>66.00</td>\n",
       "      <td>58.00</td>\n",
       "      <td>0</td>\n",
       "      <td>70.0</td>\n",
       "      <td>0</td>\n",
       "      <td>60.23</td>\n",
       "      <td>1</td>\n",
       "      <td>204000.0</td>\n",
       "    </tr>\n",
       "    <tr>\n",
       "      <th>214</th>\n",
       "      <td>1</td>\n",
       "      <td>62.00</td>\n",
       "      <td>58.00</td>\n",
       "      <td>53.00</td>\n",
       "      <td>0</td>\n",
       "      <td>89.0</td>\n",
       "      <td>0</td>\n",
       "      <td>60.22</td>\n",
       "      <td>0</td>\n",
       "      <td>0.0</td>\n",
       "    </tr>\n",
       "  </tbody>\n",
       "</table>\n",
       "<p>215 rows × 10 columns</p>\n",
       "</div>"
      ],
      "text/plain": [
       "     gender  ssc_p  hsc_p  degree_p  workex  etest_p  specialisation  mba_p  \\\n",
       "0         1  67.00  91.00     58.00       0     55.0               0  58.80   \n",
       "1         1  79.33  78.33     77.48       1     86.5               1  66.28   \n",
       "2         1  65.00  68.00     64.00       0     75.0               1  57.80   \n",
       "3         1  56.00  52.00     52.00       0     66.0               0  59.43   \n",
       "4         1  85.80  73.60     73.30       0     96.8               1  55.50   \n",
       "..      ...    ...    ...       ...     ...      ...             ...    ...   \n",
       "210       1  80.60  82.00     77.60       0     91.0               1  74.49   \n",
       "211       1  58.00  60.00     72.00       0     74.0               1  53.62   \n",
       "212       1  67.00  67.00     73.00       1     59.0               1  69.72   \n",
       "213       0  74.00  66.00     58.00       0     70.0               0  60.23   \n",
       "214       1  62.00  58.00     53.00       0     89.0               0  60.22   \n",
       "\n",
       "     status    salary  \n",
       "0         1  270000.0  \n",
       "1         1  200000.0  \n",
       "2         1  250000.0  \n",
       "3         0       0.0  \n",
       "4         1  425000.0  \n",
       "..      ...       ...  \n",
       "210       1  400000.0  \n",
       "211       1  275000.0  \n",
       "212       1  295000.0  \n",
       "213       1  204000.0  \n",
       "214       0       0.0  \n",
       "\n",
       "[215 rows x 10 columns]"
      ]
     },
     "execution_count": 66,
     "metadata": {},
     "output_type": "execute_result"
    }
   ],
   "source": [
    "df = pd.read_csv('/home/varun/Downloads/Placement_Data_Full_Class.csv')\n",
    "df['workex'] = df.workex.eq('Yes').mul(1)\n",
    "df['gender'] = df.gender.eq('M').mul(1)\n",
    "df['status'] = df.status.eq('Placed').mul(1)\n",
    "df['specialisation'] = df.specialisation.eq('Mkt&Fin').mul(1)\n",
    "df = df.drop(df.columns[0], axis=1)\n",
    "df['salary'] = df['salary'].fillna(0)\n",
    "df = df.drop(df[['ssc_b','hsc_b', 'hsc_s', 'degree_t']], axis = 1)\n",
    "#df.degree_t.unique(), df.ssc_b.unique(), df.hsc_b.unique()\n",
    "df"
   ]
  },
  {
   "cell_type": "code",
   "execution_count": 67,
   "metadata": {},
   "outputs": [
    {
     "data": {
      "image/png": "[encoded data removed]",
      "text/plain": [
       "<Figure size 1440x1440 with 12 Axes>"
      ]
     },
     "metadata": {
      "needs_background": "light"
     },
     "output_type": "display_data"
    }
   ],
   "source": [
    "df.columns = ['Gender', '10th %', '12th %', 'Degree %','Workex', 'E-test %', 'MBA branch', 'MBA %', 'Employment Status', 'Salary']\n",
    "df.hist(figsize=(20,20))\n",
    "plt.show()"
   ]
  },
  {
   "cell_type": "code",
   "execution_count": 68,
   "metadata": {},
   "outputs": [
    {
     "name": "stdout",
     "output_type": "stream",
     "text": [
      "<class 'pandas.core.frame.DataFrame'>\n",
      "RangeIndex: 215 entries, 0 to 214\n",
      "Data columns (total 10 columns):\n",
      " #   Column             Non-Null Count  Dtype  \n",
      "---  ------             --------------  -----  \n",
      " 0   Gender             215 non-null    int64  \n",
      " 1   10th %             215 non-null    float64\n",
      " 2   12th %             215 non-null    float64\n",
      " 3   Degree %           215 non-null    float64\n",
      " 4   Workex             215 non-null    int64  \n",
      " 5   E-test %           215 non-null    float64\n",
      " 6   MBA branch         215 non-null    int64  \n",
      " 7   MBA %              215 non-null    float64\n",
      " 8   Employment Status  215 non-null    int64  \n",
      " 9   Salary             215 non-null    float64\n",
      "dtypes: float64(6), int64(4)\n",
      "memory usage: 16.9 KB\n"
     ]
    }
   ],
   "source": [
    "df.info()"
   ]
  },
  {
   "cell_type": "code",
   "execution_count": 69,
   "metadata": {
    "scrolled": true
   },
   "outputs": [
    {
     "data": {
      "text/html": [
       "<div>\n",
       "<style scoped>\n",
       "    .dataframe tbody tr th:only-of-type {\n",
       "        vertical-align: middle;\n",
       "    }\n",
       "\n",
       "    .dataframe tbody tr th {\n",
       "        vertical-align: top;\n",
       "    }\n",
       "\n",
       "    .dataframe thead th {\n",
       "        text-align: right;\n",
       "    }\n",
       "</style>\n",
       "<table border=\"1\" class=\"dataframe\">\n",
       "  <thead>\n",
       "    <tr style=\"text-align: right;\">\n",
       "      <th></th>\n",
       "      <th>Gender</th>\n",
       "      <th>10th %</th>\n",
       "      <th>12th %</th>\n",
       "      <th>Degree %</th>\n",
       "      <th>Workex</th>\n",
       "      <th>E-test %</th>\n",
       "      <th>MBA branch</th>\n",
       "      <th>MBA %</th>\n",
       "      <th>Employment Status</th>\n",
       "      <th>Salary</th>\n",
       "    </tr>\n",
       "  </thead>\n",
       "  <tbody>\n",
       "    <tr>\n",
       "      <th>count</th>\n",
       "      <td>215.000000</td>\n",
       "      <td>215.000000</td>\n",
       "      <td>215.000000</td>\n",
       "      <td>215.000000</td>\n",
       "      <td>215.000000</td>\n",
       "      <td>215.000000</td>\n",
       "      <td>215.000000</td>\n",
       "      <td>215.000000</td>\n",
       "      <td>215.000000</td>\n",
       "      <td>215.000000</td>\n",
       "    </tr>\n",
       "    <tr>\n",
       "      <th>mean</th>\n",
       "      <td>0.646512</td>\n",
       "      <td>67.303395</td>\n",
       "      <td>66.333163</td>\n",
       "      <td>66.370186</td>\n",
       "      <td>0.344186</td>\n",
       "      <td>72.100558</td>\n",
       "      <td>0.558140</td>\n",
       "      <td>62.278186</td>\n",
       "      <td>0.688372</td>\n",
       "      <td>198702.325581</td>\n",
       "    </tr>\n",
       "    <tr>\n",
       "      <th>std</th>\n",
       "      <td>0.479168</td>\n",
       "      <td>10.827205</td>\n",
       "      <td>10.897509</td>\n",
       "      <td>7.358743</td>\n",
       "      <td>0.476211</td>\n",
       "      <td>13.275956</td>\n",
       "      <td>0.497767</td>\n",
       "      <td>5.833385</td>\n",
       "      <td>0.464240</td>\n",
       "      <td>154780.926716</td>\n",
       "    </tr>\n",
       "    <tr>\n",
       "      <th>min</th>\n",
       "      <td>0.000000</td>\n",
       "      <td>40.890000</td>\n",
       "      <td>37.000000</td>\n",
       "      <td>50.000000</td>\n",
       "      <td>0.000000</td>\n",
       "      <td>50.000000</td>\n",
       "      <td>0.000000</td>\n",
       "      <td>51.210000</td>\n",
       "      <td>0.000000</td>\n",
       "      <td>0.000000</td>\n",
       "    </tr>\n",
       "    <tr>\n",
       "      <th>25%</th>\n",
       "      <td>0.000000</td>\n",
       "      <td>60.600000</td>\n",
       "      <td>60.900000</td>\n",
       "      <td>61.000000</td>\n",
       "      <td>0.000000</td>\n",
       "      <td>60.000000</td>\n",
       "      <td>0.000000</td>\n",
       "      <td>57.945000</td>\n",
       "      <td>0.000000</td>\n",
       "      <td>0.000000</td>\n",
       "    </tr>\n",
       "    <tr>\n",
       "      <th>50%</th>\n",
       "      <td>1.000000</td>\n",
       "      <td>67.000000</td>\n",
       "      <td>65.000000</td>\n",
       "      <td>66.000000</td>\n",
       "      <td>0.000000</td>\n",
       "      <td>71.000000</td>\n",
       "      <td>1.000000</td>\n",
       "      <td>62.000000</td>\n",
       "      <td>1.000000</td>\n",
       "      <td>240000.000000</td>\n",
       "    </tr>\n",
       "    <tr>\n",
       "      <th>75%</th>\n",
       "      <td>1.000000</td>\n",
       "      <td>75.700000</td>\n",
       "      <td>73.000000</td>\n",
       "      <td>72.000000</td>\n",
       "      <td>1.000000</td>\n",
       "      <td>83.500000</td>\n",
       "      <td>1.000000</td>\n",
       "      <td>66.255000</td>\n",
       "      <td>1.000000</td>\n",
       "      <td>282500.000000</td>\n",
       "    </tr>\n",
       "    <tr>\n",
       "      <th>max</th>\n",
       "      <td>1.000000</td>\n",
       "      <td>89.400000</td>\n",
       "      <td>97.700000</td>\n",
       "      <td>91.000000</td>\n",
       "      <td>1.000000</td>\n",
       "      <td>98.000000</td>\n",
       "      <td>1.000000</td>\n",
       "      <td>77.890000</td>\n",
       "      <td>1.000000</td>\n",
       "      <td>940000.000000</td>\n",
       "    </tr>\n",
       "  </tbody>\n",
       "</table>\n",
       "</div>"
      ],
      "text/plain": [
       "           Gender      10th %      12th %    Degree %      Workex    E-test %  \\\n",
       "count  215.000000  215.000000  215.000000  215.000000  215.000000  215.000000   \n",
       "mean     0.646512   67.303395   66.333163   66.370186    0.344186   72.100558   \n",
       "std      0.479168   10.827205   10.897509    7.358743    0.476211   13.275956   \n",
       "min      0.000000   40.890000   37.000000   50.000000    0.000000   50.000000   \n",
       "25%      0.000000   60.600000   60.900000   61.000000    0.000000   60.000000   \n",
       "50%      1.000000   67.000000   65.000000   66.000000    0.000000   71.000000   \n",
       "75%      1.000000   75.700000   73.000000   72.000000    1.000000   83.500000   \n",
       "max      1.000000   89.400000   97.700000   91.000000    1.000000   98.000000   \n",
       "\n",
       "       MBA branch       MBA %  Employment Status         Salary  \n",
       "count  215.000000  215.000000         215.000000     215.000000  \n",
       "mean     0.558140   62.278186           0.688372  198702.325581  \n",
       "std      0.497767    5.833385           0.464240  154780.926716  \n",
       "min      0.000000   51.210000           0.000000       0.000000  \n",
       "25%      0.000000   57.945000           0.000000       0.000000  \n",
       "50%      1.000000   62.000000           1.000000  240000.000000  \n",
       "75%      1.000000   66.255000           1.000000  282500.000000  \n",
       "max      1.000000   77.890000           1.000000  940000.000000  "
      ]
     },
     "execution_count": 69,
     "metadata": {},
     "output_type": "execute_result"
    }
   ],
   "source": [
    "df.describe()"
   ]
  },
  {
   "cell_type": "markdown",
   "metadata": {},
   "source": [
    "## Test-Train split and Sampling Approach\n",
    "Since Employability test is a good indicator of job placement, we will use stratified sampling method to perform a test-train split. For this, we will divide the dataset into sub-groups based on E-test performance. This makes sure that the test set provides a better evaluation and better represents the dataset rather than a completely random test-train split. "
   ]
  },
  {
   "cell_type": "code",
   "execution_count": 70,
   "metadata": {},
   "outputs": [
    {
     "data": {
      "text/plain": [
       "<matplotlib.axes._subplots.AxesSubplot at 0x7f92273eef28>"
      ]
     },
     "execution_count": 70,
     "metadata": {},
     "output_type": "execute_result"
    },
    {
     "data": {
      "image/png": "[encoded data removed]",
      "text/plain": [
       "<Figure size 432x288 with 1 Axes>"
      ]
     },
     "metadata": {
      "needs_background": "light"
     },
     "output_type": "display_data"
    }
   ],
   "source": [
    "df['E-test group'] = pd.cut(df['E-test %'],bins=[40, 60, 80, 100], labels=['40-60','60-80','80-100'])\n",
    "df['E-test group'].hist()"
   ]
  },
  {
   "cell_type": "code",
   "execution_count": 71,
   "metadata": {},
   "outputs": [],
   "source": [
    "from sklearn.model_selection import StratifiedShuffleSplit\n",
    "split = StratifiedShuffleSplit(n_splits = 1, test_size = 0.25, random_state= 42)\n",
    "for train_index, test_index in split.split(df, df['E-test group']):\n",
    "    train_set = df.loc[train_index]\n",
    "    test_set = df.loc[test_index]"
   ]
  },
  {
   "cell_type": "code",
   "execution_count": 72,
   "metadata": {},
   "outputs": [],
   "source": [
    "for temp in (train_set, test_set):\n",
    "    temp.drop(['E-test group','Workex'], axis=1,inplace=True)"
   ]
  },
  {
   "cell_type": "code",
   "execution_count": 73,
   "metadata": {},
   "outputs": [],
   "source": [
    "placement_data = train_set.copy()"
   ]
  },
  {
   "cell_type": "code",
   "execution_count": 74,
   "metadata": {},
   "outputs": [
    {
     "data": {
      "text/plain": [
       "Salary               1.000000\n",
       "Employment Status    0.840065\n",
       "10th %               0.544710\n",
       "12th %               0.427463\n",
       "Degree %             0.361307\n",
       "MBA branch           0.229152\n",
       "E-test %             0.183695\n",
       "MBA %                0.135362\n",
       "Gender               0.125663\n",
       "Name: Salary, dtype: float64"
      ]
     },
     "execution_count": 74,
     "metadata": {},
     "output_type": "execute_result"
    }
   ],
   "source": [
    "corr_matrix = placement_data.corr()\n",
    "corr_matrix['Salary'].sort_values(ascending=False)"
   ]
  },
  {
   "cell_type": "markdown",
   "metadata": {},
   "source": [
    "## Regularisation \n",
    "For this task we will be using Min-Max Scaling method which scales all values of the dataset between 0 and 1. Since this is a supervised learning task, we will separate the salary labels from the training set."
   ]
  },
  {
   "cell_type": "code",
   "execution_count": 76,
   "metadata": {},
   "outputs": [],
   "source": [
    "salary_data = placement_data.drop('Salary',1)\n",
    "salary_labels = placement_data['Salary'].copy()"
   ]
  },
  {
   "cell_type": "code",
   "execution_count": 77,
   "metadata": {},
   "outputs": [],
   "source": [
    "from sklearn.preprocessing import MinMaxScaler\n",
    "scaler = MinMaxScaler()\n",
    "final_train_set = scaler.fit_transform(salary_data)"
   ]
  },
  {
   "cell_type": "code",
   "execution_count": 78,
   "metadata": {},
   "outputs": [
    {
     "data": {
      "text/plain": [
       "array([[1.        , 0.51762523, 0.45      , ..., 0.        , 0.40067466,\n",
       "        0.        ],\n",
       "       [0.        , 0.84745413, 0.45      , ..., 1.        , 0.77061469,\n",
       "        1.        ],\n",
       "       [0.        , 0.49701093, 0.63333333, ..., 1.        , 0.50412294,\n",
       "        1.        ],\n",
       "       ...,\n",
       "       [0.        , 0.04349619, 0.38333333, ..., 0.        , 0.43890555,\n",
       "        0.        ],\n",
       "       [0.        , 0.95052566, 0.46666667, ..., 1.        , 0.80847076,\n",
       "        1.        ],\n",
       "       [1.        , 0.51762523, 0.65      , ..., 0.        , 0.29010495,\n",
       "        1.        ]])"
      ]
     },
     "execution_count": 78,
     "metadata": {},
     "output_type": "execute_result"
    }
   ],
   "source": [
    "final_train_set"
   ]
  },
  {
   "cell_type": "markdown",
   "metadata": {},
   "source": [
    "## Model Training and Selection\n",
    "We will train three models(Linear Regression, Tree-based Regression and Random Forest Regression). Model selection will be based on RMSE performance through k-folds Cross Valuation."
   ]
  },
  {
   "cell_type": "code",
   "execution_count": 79,
   "metadata": {},
   "outputs": [
    {
     "data": {
      "text/plain": [
       "LinearRegression()"
      ]
     },
     "execution_count": 79,
     "metadata": {},
     "output_type": "execute_result"
    }
   ],
   "source": [
    "from sklearn.linear_model import LinearRegression\n",
    "lin_reg = LinearRegression()\n",
    "lin_reg.fit(final_train_set, salary_labels)"
   ]
  },
  {
   "cell_type": "code",
   "execution_count": 80,
   "metadata": {},
   "outputs": [
    {
     "data": {
      "text/plain": [
       "DecisionTreeRegressor()"
      ]
     },
     "execution_count": 80,
     "metadata": {},
     "output_type": "execute_result"
    }
   ],
   "source": [
    "from sklearn.tree import DecisionTreeRegressor\n",
    "tree_reg = DecisionTreeRegressor()\n",
    "tree_reg.fit(final_train_set, salary_labels)"
   ]
  },
  {
   "cell_type": "code",
   "execution_count": 81,
   "metadata": {},
   "outputs": [
    {
     "data": {
      "text/plain": [
       "RandomForestRegressor()"
      ]
     },
     "execution_count": 81,
     "metadata": {},
     "output_type": "execute_result"
    }
   ],
   "source": [
    "from sklearn.ensemble import RandomForestRegressor\n",
    "rand_forest_reg = RandomForestRegressor()\n",
    "rand_forest_reg.fit(final_train_set, salary_labels)"
   ]
  },
  {
   "cell_type": "code",
   "execution_count": 82,
   "metadata": {},
   "outputs": [],
   "source": [
    "from sklearn.model_selection import cross_val_score\n",
    "tree_reg_scores = cross_val_score(tree_reg, final_train_set, salary_labels,scoring = 'neg_mean_squared_error', cv=5)\n",
    "tree_rmse = np.sqrt(-tree_reg_scores)\n",
    "lin_reg_scores = cross_val_score(lin_reg, final_train_set, salary_labels,scoring = 'neg_mean_squared_error', cv=5)\n",
    "lin_reg_rmse = np.sqrt(-lin_reg_scores)\n",
    "rand_forest_scores = cross_val_score(rand_forest_reg, final_train_set, salary_labels, scoring = 'neg_mean_squared_error', cv=5)\n",
    "rand_forest_rmse = np.sqrt(-rand_forest_scores)"
   ]
  },
  {
   "cell_type": "code",
   "execution_count": 83,
   "metadata": {},
   "outputs": [
    {
     "name": "stdout",
     "output_type": "stream",
     "text": [
      "descision_tree performance\n",
      "scores: [127479.29124752 115371.00480623  75567.64353875 151777.18043237\n",
      "  91392.69664475]\n",
      "mean: 112317.56333392565\n",
      "standard deviation: 26775.62148902498\n",
      "---------------\n",
      "lin_reg performance\n",
      "scores: [ 87118.34915807  58797.72921963  60817.93347429 140369.10843346\n",
      "  53402.82407952]\n",
      "mean: 80101.18887299321\n",
      "standard deviation: 32310.823824941846\n",
      "---------------\n",
      "ran_forest performance\n",
      "scores: [ 93343.53028172  68588.97711185  66840.09219772 143213.57395731\n",
      "  55407.14741236]\n",
      "mean: 85478.66419219217\n",
      "standard deviation: 31407.419318679356\n",
      "---------------\n"
     ]
    }
   ],
   "source": [
    "def display(scores):\n",
    "    print(\"scores:\", scores)\n",
    "    print(\"mean:\",scores.mean())\n",
    "    print(\"standard deviation:\", scores.std())\n",
    "\n",
    "print('descision_tree performance')\n",
    "display(tree_rmse)\n",
    "print('---------------')\n",
    "print('lin_reg performance')\n",
    "display(lin_reg_rmse)\n",
    "print('---------------')\n",
    "print('ran_forest performance')\n",
    "display(rand_forest_rmse)\n",
    "print('---------------')"
   ]
  },
  {
   "cell_type": "markdown",
   "metadata": {},
   "source": [
    "## Hyper-parameter Selection\n",
    "it is clear from the above exercise that Linear Regression performs best having the least mean of 128772.414 out of the three models. Now we use Grid Search to further fine-tune the model and find the best hyper-parameters for our model."
   ]
  },
  {
   "cell_type": "code",
   "execution_count": 84,
   "metadata": {},
   "outputs": [],
   "source": [
    "from sklearn.model_selection import GridSearchCV\n",
    "param_list = {'fit_intercept':[True,False], 'normalize':[True,False], 'copy_X':[True, False]}\n",
    "grid_search = GridSearchCV(lin_reg, param_list, cv=5, scoring='neg_mean_squared_error', return_train_score=True)\n",
    "grid_search.fit(final_train_set,salary_labels)\n",
    "best_model = grid_search.best_estimator_"
   ]
  },
  {
   "cell_type": "markdown",
   "metadata": {},
   "source": [
    "## Testing\n",
    "Now, finally after model selection and hyper-parameter tuning, we will test our regression model on the test set and provide a final measure of accuracy. We will perfom the same operations employed on the training set such as separating labels and min-max scaling and provide a final RMSE score obtained by the predictions of our model on the test set.   "
   ]
  },
  {
   "cell_type": "code",
   "execution_count": 86,
   "metadata": {},
   "outputs": [],
   "source": [
    "X_test = test_set.drop('Salary', axis=1)\n",
    "y_test = test_set['Salary'].copy()\n",
    "final_test_set = scaler.fit_transform(X_test)"
   ]
  },
  {
   "cell_type": "code",
   "execution_count": 87,
   "metadata": {},
   "outputs": [
    {
     "data": {
      "text/plain": [
       "45740.22895187194"
      ]
     },
     "execution_count": 87,
     "metadata": {},
     "output_type": "execute_result"
    }
   ],
   "source": [
    "from sklearn.metrics import mean_squared_error\n",
    "final_predict = best_model.predict(final_test_set)\n",
    "test_scores = mean_squared_error(final_predict, y_test)\n",
    "test_rmse = np.sqrt(test_scores)\n",
    "test_rmse"
   ]
  },
  {
   "cell_type": "code",
   "execution_count": 99,
   "metadata": {},
   "outputs": [
    {
     "name": "stdout",
     "output_type": "stream",
     "text": [
      "prediction: [276956.80779671 301103.24712838 289892.82958572   2957.18678788\n",
      " 278373.63519117 -35402.86643208 -59960.02029118 290322.63774961\n",
      " 298559.30507553 -23156.7715219  283090.65488023 276646.56995315\n",
      " -25597.86835578 298201.10026029  -3750.85783677 275589.5813573\n",
      " 292947.24478362  -4366.3332754  -26018.33254956 328400.0760016 ]\n"
     ]
    }
   ],
   "source": [
    "new_data = df.iloc[:20].copy()\n",
    "new_data = new_data.drop(['E-test group','Workex','Salary'], axis=1)\n",
    "new_data_scaled = scaler.fit_transform(new_data)\n",
    "prediction = best_model.predict(new_data_scaled)\n",
    "print(\"prediction:\", prediction)"
   ]
  },
  {
   "cell_type": "code",
   "execution_count": 105,
   "metadata": {},
   "outputs": [
    {
     "data": {
      "text/html": [
       "<div>\n",
       "<style scoped>\n",
       "    .dataframe tbody tr th:only-of-type {\n",
       "        vertical-align: middle;\n",
       "    }\n",
       "\n",
       "    .dataframe tbody tr th {\n",
       "        vertical-align: top;\n",
       "    }\n",
       "\n",
       "    .dataframe thead th {\n",
       "        text-align: right;\n",
       "    }\n",
       "</style>\n",
       "<table border=\"1\" class=\"dataframe\">\n",
       "  <thead>\n",
       "    <tr style=\"text-align: right;\">\n",
       "      <th></th>\n",
       "      <th>Salary</th>\n",
       "      <th>pred</th>\n",
       "    </tr>\n",
       "  </thead>\n",
       "  <tbody>\n",
       "    <tr>\n",
       "      <th>0</th>\n",
       "      <td>270000.0</td>\n",
       "      <td>276956.807797</td>\n",
       "    </tr>\n",
       "    <tr>\n",
       "      <th>1</th>\n",
       "      <td>200000.0</td>\n",
       "      <td>301103.247128</td>\n",
       "    </tr>\n",
       "    <tr>\n",
       "      <th>2</th>\n",
       "      <td>250000.0</td>\n",
       "      <td>289892.829586</td>\n",
       "    </tr>\n",
       "    <tr>\n",
       "      <th>3</th>\n",
       "      <td>0.0</td>\n",
       "      <td>2957.186788</td>\n",
       "    </tr>\n",
       "    <tr>\n",
       "      <th>4</th>\n",
       "      <td>425000.0</td>\n",
       "      <td>278373.635191</td>\n",
       "    </tr>\n",
       "    <tr>\n",
       "      <th>5</th>\n",
       "      <td>0.0</td>\n",
       "      <td>-35402.866432</td>\n",
       "    </tr>\n",
       "    <tr>\n",
       "      <th>6</th>\n",
       "      <td>0.0</td>\n",
       "      <td>-59960.020291</td>\n",
       "    </tr>\n",
       "    <tr>\n",
       "      <th>7</th>\n",
       "      <td>252000.0</td>\n",
       "      <td>290322.637750</td>\n",
       "    </tr>\n",
       "    <tr>\n",
       "      <th>8</th>\n",
       "      <td>231000.0</td>\n",
       "      <td>298559.305076</td>\n",
       "    </tr>\n",
       "    <tr>\n",
       "      <th>9</th>\n",
       "      <td>0.0</td>\n",
       "      <td>-23156.771522</td>\n",
       "    </tr>\n",
       "    <tr>\n",
       "      <th>10</th>\n",
       "      <td>260000.0</td>\n",
       "      <td>283090.654880</td>\n",
       "    </tr>\n",
       "    <tr>\n",
       "      <th>11</th>\n",
       "      <td>250000.0</td>\n",
       "      <td>276646.569953</td>\n",
       "    </tr>\n",
       "    <tr>\n",
       "      <th>12</th>\n",
       "      <td>0.0</td>\n",
       "      <td>-25597.868356</td>\n",
       "    </tr>\n",
       "    <tr>\n",
       "      <th>13</th>\n",
       "      <td>218000.0</td>\n",
       "      <td>298201.100260</td>\n",
       "    </tr>\n",
       "    <tr>\n",
       "      <th>14</th>\n",
       "      <td>0.0</td>\n",
       "      <td>-3750.857837</td>\n",
       "    </tr>\n",
       "    <tr>\n",
       "      <th>15</th>\n",
       "      <td>200000.0</td>\n",
       "      <td>275589.581357</td>\n",
       "    </tr>\n",
       "    <tr>\n",
       "      <th>16</th>\n",
       "      <td>300000.0</td>\n",
       "      <td>292947.244784</td>\n",
       "    </tr>\n",
       "    <tr>\n",
       "      <th>17</th>\n",
       "      <td>0.0</td>\n",
       "      <td>-4366.333275</td>\n",
       "    </tr>\n",
       "    <tr>\n",
       "      <th>18</th>\n",
       "      <td>0.0</td>\n",
       "      <td>-26018.332550</td>\n",
       "    </tr>\n",
       "    <tr>\n",
       "      <th>19</th>\n",
       "      <td>236000.0</td>\n",
       "      <td>328400.076002</td>\n",
       "    </tr>\n",
       "  </tbody>\n",
       "</table>\n",
       "</div>"
      ],
      "text/plain": [
       "      Salary           pred\n",
       "0   270000.0  276956.807797\n",
       "1   200000.0  301103.247128\n",
       "2   250000.0  289892.829586\n",
       "3        0.0    2957.186788\n",
       "4   425000.0  278373.635191\n",
       "5        0.0  -35402.866432\n",
       "6        0.0  -59960.020291\n",
       "7   252000.0  290322.637750\n",
       "8   231000.0  298559.305076\n",
       "9        0.0  -23156.771522\n",
       "10  260000.0  283090.654880\n",
       "11  250000.0  276646.569953\n",
       "12       0.0  -25597.868356\n",
       "13  218000.0  298201.100260\n",
       "14       0.0   -3750.857837\n",
       "15  200000.0  275589.581357\n",
       "16  300000.0  292947.244784\n",
       "17       0.0   -4366.333275\n",
       "18       0.0  -26018.332550\n",
       "19  236000.0  328400.076002"
      ]
     },
     "execution_count": 105,
     "metadata": {},
     "output_type": "execute_result"
    }
   ],
   "source": [
    "df_3 = pd.DataFrame( df['Salary'].iloc[:20])\n",
    "df_3['pred'] = prediction\n",
    "df_3.index = range(0,20)\n",
    "df_3"
   ]
  },
  {
   "cell_type": "code",
   "execution_count": 104,
   "metadata": {},
   "outputs": [
    {
     "data": {
      "text/plain": [
       "0     270000.0\n",
       "1     200000.0\n",
       "2     250000.0\n",
       "3          0.0\n",
       "4     425000.0\n",
       "5          0.0\n",
       "6          0.0\n",
       "7     252000.0\n",
       "8     231000.0\n",
       "9          0.0\n",
       "10    260000.0\n",
       "11    250000.0\n",
       "12         0.0\n",
       "13    218000.0\n",
       "14         0.0\n",
       "15    200000.0\n",
       "16    300000.0\n",
       "17         0.0\n",
       "18         0.0\n",
       "19    236000.0\n",
       "Name: Salary, dtype: float64"
      ]
     },
     "execution_count": 104,
     "metadata": {},
     "output_type": "execute_result"
    }
   ],
   "source": [
    "df['Salary'].iloc[:20]"
   ]
  },
  {
   "cell_type": "code",
   "execution_count": null,
   "metadata": {},
   "outputs": [],
   "source": []
  }
 ],
 "metadata": {
  "kernelspec": {
   "display_name": "Python 3",
   "language": "python",
   "name": "python3"
  },
  "language_info": {
   "codemirror_mode": {
    "name": "ipython",
    "version": 3
   },
   "file_extension": ".py",
   "mimetype": "text/x-python",
   "name": "python",
   "nbconvert_exporter": "python",
   "pygments_lexer": "ipython3",
   "version": "3.6.9"
  },
  "widgets": {
   "application/vnd.jupyter.widget-state+json": {
    "state": {},
    "version_major": 2,
    "version_minor": 0
   }
  }
 },
 "nbformat": 4,
 "nbformat_minor": 2
}
